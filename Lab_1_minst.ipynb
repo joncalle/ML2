{
  "cells": [
    {
      "cell_type": "markdown",
      "metadata": {
        "id": "view-in-github",
        "colab_type": "text"
      },
      "source": [
        "<a href=\"https://colab.research.google.com/github/joncalle/ML2/blob/main/Lab_1_minst.ipynb\" target=\"_parent\"><img src=\"https://colab.research.google.com/assets/colab-badge.svg\" alt=\"Open In Colab\"/></a>"
      ]
    },
    {
      "cell_type": "markdown",
      "metadata": {
        "tags": [],
        "id": "f0VqqheB9gLA"
      },
      "source": [
        "# Lab 1: Keras and MNIST (35 Marks)\n",
        "\n",
        "**This is a modified version of the original notebook by Francois Chollet.**"
      ]
    },
    {
      "cell_type": "markdown",
      "source": [
        "## **Group - Num**\n",
        "*   Name - Student ID\n",
        "*   Name - Student ID\n",
        "*   Name - Student ID\n",
        "*   Name - Student ID\n",
        "\n",
        "\n",
        "\n"
      ],
      "metadata": {
        "id": "wQ9XZcBc_3Fz"
      }
    },
    {
      "cell_type": "markdown",
      "metadata": {
        "tags": [],
        "id": "xGg5n-GT9gLB"
      },
      "source": [
        "## Objectives\n",
        "\n",
        "By the end of this lab, you should be able to:\n",
        " - explain the role of train, validation, and test sets and understand why the tutorial is  only using train and test\n",
        " - explain the tensor (data) shapes of (28, 28), (60000, 28, 28), (784,), and (60000, 784); what they mean and where they come from\n",
        " - explain one-hot encoding of the label data\n",
        " - sketch (on paper) the architecture/structure of the model being used\n",
        " - calculate by hand how many parameters (weights and biases) the network is using  \n",
        " - understand the output of model.summary() and use to verify the parameter calculation done above\n",
        " - explain why this neural network has 10 output neurons\n",
        " - provide basic explanations for the terms *optimizer*, *loss*, and *metric*\n",
        " - explain what an *epoch* is\n",
        " - explain what is meant by *batch size* and how it is connected to model learning\n",
        " - explain the difference between training a network and testing a network\n",
        " - give a brief explanation of the softmax function and how it is being used"
      ]
    },
    {
      "cell_type": "markdown",
      "metadata": {
        "id": "ucstVChn9gLC"
      },
      "source": [
        "We will now take a look at a first concrete example of a neural network, which makes use of the Python library Keras to learn to classify hand-written digits. Unless you already have experience with Keras or similar libraries, you will not understand everything about this first example right away. Don't worry, that is perfectly fine. We've got to start somewhere.\n",
        "\n",
        "The problem we are trying to solve here is to classify grayscale images of handwritten digits (28 pixels by 28 pixels), into their 10 categories (0 to 9). The dataset we will use is the MNIST dataset, a classic dataset in the machine learning community, which has been around for almost as long as the field itself and has been very intensively studied. It's a set of 60,000 training images, plus 10,000 test images, assembled by the National Institute of Standards and Technology (the NIST in MNIST) in the 1980s. You can think of \"solving\" MNIST as the \"Hello World\" of deep learning -- it's what you do to verify that your algorithms are working as expected. As you become a machine learning practitioner, you will see MNIST come up over and over again, in scientific papers, blog posts, and so on.\n",
        "\n",
        "The MNIST dataset comes pre-loaded in Keras, in the form of a set of four Numpy arrays:"
      ]
    },
    {
      "cell_type": "code",
      "execution_count": 1,
      "metadata": {
        "id": "ZSZVkKih9gLD",
        "colab": {
          "base_uri": "https://localhost:8080/"
        },
        "outputId": "cca7e061-cabc-4b2d-d128-d2215ffe2790"
      },
      "outputs": [
        {
          "output_type": "stream",
          "name": "stdout",
          "text": [
            "Downloading data from https://storage.googleapis.com/tensorflow/tf-keras-datasets/mnist.npz\n",
            "11490434/11490434 [==============================] - 1s 0us/step\n"
          ]
        }
      ],
      "source": [
        "from tensorflow.keras.datasets import mnist\n",
        "\n",
        "(train_images, train_labels), (test_images, test_labels) = mnist.load_data()"
      ]
    },
    {
      "cell_type": "markdown",
      "metadata": {
        "id": "5lfCgDDl9gLD"
      },
      "source": [
        "`train_images` and `train_labels` form the \"training set\", the data that the model will learn from. The model will then be tested on the\n",
        "\"test set\", `test_images` and `test_labels`. Our images are encoded as Numpy arrays, and the labels are simply an array of digits, ranging\n",
        "from 0 to 9. There is a one-to-one correspondence between the images and the labels.\n",
        "\n",
        "Let's have a look at the training data:"
      ]
    },
    {
      "cell_type": "code",
      "execution_count": 9,
      "metadata": {
        "id": "6HU3YL6t9gLE",
        "outputId": "562f02f4-ce38-4158-c3b5-412c7b311fb2",
        "colab": {
          "base_uri": "https://localhost:8080/",
          "height": 447
        }
      },
      "outputs": [
        {
          "output_type": "execute_result",
          "data": {
            "text/plain": [
              "<matplotlib.image.AxesImage at 0x7d20687c1030>"
            ]
          },
          "metadata": {},
          "execution_count": 9
        },
        {
          "output_type": "display_data",
          "data": {
            "text/plain": [
              "<Figure size 640x480 with 1 Axes>"
            ],
            "image/png": "[encoded data removed]"
          },
          "metadata": {}
        }
      ],
      "source": [
        "import matplotlib.pyplot as plt\n",
        "\n",
        "plt.imshow(train_images[1], cmap='gray')"
      ]
    },
    {
      "cell_type": "code",
      "execution_count": 3,
      "metadata": {
        "id": "2iajyGuX9gLE",
        "outputId": "3923591f-7017-4f18-f836-786c2e4290d2",
        "colab": {
          "base_uri": "https://localhost:8080/"
        }
      },
      "outputs": [
        {
          "output_type": "execute_result",
          "data": {
            "text/plain": [
              "(60000, 28, 28)"
            ]
          },
          "metadata": {},
          "execution_count": 3
        }
      ],
      "source": [
        "train_images.shape"
      ]
    },
    {
      "cell_type": "code",
      "execution_count": null,
      "metadata": {
        "id": "OgU44CCY9gLF",
        "outputId": "c0a6646b-cd66-4464-8acd-88e2a6bad5ab"
      },
      "outputs": [
        {
          "data": {
            "text/plain": [
              "array([[  0,   0,   0,   0,   0,   0,   0,   0,   0,   0,   0,   0,   0,\n",
              "          0,   0,   0,   0,   0,   0,   0,   0,   0,   0,   0,   0,   0,\n",
              "          0,   0],\n",
              "       [  0,   0,   0,   0,   0,   0,   0,   0,   0,   0,   0,   0,   0,\n",
              "          0,   0,   0,   0,   0,   0,   0,   0,   0,   0,   0,   0,   0,\n",
              "          0,   0],\n",
              "       [  0,   0,   0,   0,   0,   0,   0,   0,   0,   0,   0,   0,   0,\n",
              "          0,   0,   0,   0,   0,   0,   0,   0,   0,   0,   0,   0,   0,\n",
              "          0,   0],\n",
              "       [  0,   0,   0,   0,   0,   0,   0,   0,   0,   0,   0,   0,   0,\n",
              "          0,   0,   0,   0,   0,   0,   0,   0,   0,   0,   0,   0,   0,\n",
              "          0,   0],\n",
              "       [  0,   0,   0,   0,   0,   0,   0,   0,   0,   0,   0,   0,   0,\n",
              "          0,   0,   0,   0,   0,   0,   0,   0,   0,   0,   0,   0,   0,\n",
              "          0,   0],\n",
              "       [  0,   0,   0,   0,   0,   0,   0,   0,   0,   0,   0,   0,   3,\n",
              "         18,  18,  18, 126, 136, 175,  26, 166, 255, 247, 127,   0,   0,\n",
              "          0,   0],\n",
              "       [  0,   0,   0,   0,   0,   0,   0,   0,  30,  36,  94, 154, 170,\n",
              "        253, 253, 253, 253, 253, 225, 172, 253, 242, 195,  64,   0,   0,\n",
              "          0,   0],\n",
              "       [  0,   0,   0,   0,   0,   0,   0,  49, 238, 253, 253, 253, 253,\n",
              "        253, 253, 253, 253, 251,  93,  82,  82,  56,  39,   0,   0,   0,\n",
              "          0,   0],\n",
              "       [  0,   0,   0,   0,   0,   0,   0,  18, 219, 253, 253, 253, 253,\n",
              "        253, 198, 182, 247, 241,   0,   0,   0,   0,   0,   0,   0,   0,\n",
              "          0,   0],\n",
              "       [  0,   0,   0,   0,   0,   0,   0,   0,  80, 156, 107, 253, 253,\n",
              "        205,  11,   0,  43, 154,   0,   0,   0,   0,   0,   0,   0,   0,\n",
              "          0,   0],\n",
              "       [  0,   0,   0,   0,   0,   0,   0,   0,   0,  14,   1, 154, 253,\n",
              "         90,   0,   0,   0,   0,   0,   0,   0,   0,   0,   0,   0,   0,\n",
              "          0,   0],\n",
              "       [  0,   0,   0,   0,   0,   0,   0,   0,   0,   0,   0, 139, 253,\n",
              "        190,   2,   0,   0,   0,   0,   0,   0,   0,   0,   0,   0,   0,\n",
              "          0,   0],\n",
              "       [  0,   0,   0,   0,   0,   0,   0,   0,   0,   0,   0,  11, 190,\n",
              "        253,  70,   0,   0,   0,   0,   0,   0,   0,   0,   0,   0,   0,\n",
              "          0,   0],\n",
              "       [  0,   0,   0,   0,   0,   0,   0,   0,   0,   0,   0,   0,  35,\n",
              "        241, 225, 160, 108,   1,   0,   0,   0,   0,   0,   0,   0,   0,\n",
              "          0,   0],\n",
              "       [  0,   0,   0,   0,   0,   0,   0,   0,   0,   0,   0,   0,   0,\n",
              "         81, 240, 253, 253, 119,  25,   0,   0,   0,   0,   0,   0,   0,\n",
              "          0,   0],\n",
              "       [  0,   0,   0,   0,   0,   0,   0,   0,   0,   0,   0,   0,   0,\n",
              "          0,  45, 186, 253, 253, 150,  27,   0,   0,   0,   0,   0,   0,\n",
              "          0,   0],\n",
              "       [  0,   0,   0,   0,   0,   0,   0,   0,   0,   0,   0,   0,   0,\n",
              "          0,   0,  16,  93, 252, 253, 187,   0,   0,   0,   0,   0,   0,\n",
              "          0,   0],\n",
              "       [  0,   0,   0,   0,   0,   0,   0,   0,   0,   0,   0,   0,   0,\n",
              "          0,   0,   0,   0, 249, 253, 249,  64,   0,   0,   0,   0,   0,\n",
              "          0,   0],\n",
              "       [  0,   0,   0,   0,   0,   0,   0,   0,   0,   0,   0,   0,   0,\n",
              "          0,  46, 130, 183, 253, 253, 207,   2,   0,   0,   0,   0,   0,\n",
              "          0,   0],\n",
              "       [  0,   0,   0,   0,   0,   0,   0,   0,   0,   0,   0,   0,  39,\n",
              "        148, 229, 253, 253, 253, 250, 182,   0,   0,   0,   0,   0,   0,\n",
              "          0,   0],\n",
              "       [  0,   0,   0,   0,   0,   0,   0,   0,   0,   0,  24, 114, 221,\n",
              "        253, 253, 253, 253, 201,  78,   0,   0,   0,   0,   0,   0,   0,\n",
              "          0,   0],\n",
              "       [  0,   0,   0,   0,   0,   0,   0,   0,  23,  66, 213, 253, 253,\n",
              "        253, 253, 198,  81,   2,   0,   0,   0,   0,   0,   0,   0,   0,\n",
              "          0,   0],\n",
              "       [  0,   0,   0,   0,   0,   0,  18, 171, 219, 253, 253, 253, 253,\n",
              "        195,  80,   9,   0,   0,   0,   0,   0,   0,   0,   0,   0,   0,\n",
              "          0,   0],\n",
              "       [  0,   0,   0,   0,  55, 172, 226, 253, 253, 253, 253, 244, 133,\n",
              "         11,   0,   0,   0,   0,   0,   0,   0,   0,   0,   0,   0,   0,\n",
              "          0,   0],\n",
              "       [  0,   0,   0,   0, 136, 253, 253, 253, 212, 135, 132,  16,   0,\n",
              "          0,   0,   0,   0,   0,   0,   0,   0,   0,   0,   0,   0,   0,\n",
              "          0,   0],\n",
              "       [  0,   0,   0,   0,   0,   0,   0,   0,   0,   0,   0,   0,   0,\n",
              "          0,   0,   0,   0,   0,   0,   0,   0,   0,   0,   0,   0,   0,\n",
              "          0,   0],\n",
              "       [  0,   0,   0,   0,   0,   0,   0,   0,   0,   0,   0,   0,   0,\n",
              "          0,   0,   0,   0,   0,   0,   0,   0,   0,   0,   0,   0,   0,\n",
              "          0,   0],\n",
              "       [  0,   0,   0,   0,   0,   0,   0,   0,   0,   0,   0,   0,   0,\n",
              "          0,   0,   0,   0,   0,   0,   0,   0,   0,   0,   0,   0,   0,\n",
              "          0,   0]], dtype=uint8)"
            ]
          },
          "execution_count": 5,
          "metadata": {},
          "output_type": "execute_result"
        }
      ],
      "source": [
        "train_images[0] # the first image"
      ]
    },
    {
      "cell_type": "code",
      "execution_count": 10,
      "metadata": {
        "id": "lyZz9nSj9gLF",
        "outputId": "6e11fb85-cc48-4980-e177-0e451ad9a3be",
        "colab": {
          "base_uri": "https://localhost:8080/"
        }
      },
      "outputs": [
        {
          "output_type": "execute_result",
          "data": {
            "text/plain": [
              "(28, 28)"
            ]
          },
          "metadata": {},
          "execution_count": 10
        }
      ],
      "source": [
        "train_images[0].shape  # the shape of the first image"
      ]
    },
    {
      "cell_type": "code",
      "execution_count": 11,
      "metadata": {
        "id": "Xhnk_quh9gLG",
        "outputId": "c5c02586-ee26-4b09-9389-af1ed5056d69",
        "colab": {
          "base_uri": "https://localhost:8080/"
        }
      },
      "outputs": [
        {
          "output_type": "execute_result",
          "data": {
            "text/plain": [
              "60000"
            ]
          },
          "metadata": {},
          "execution_count": 11
        }
      ],
      "source": [
        "len(train_labels)"
      ]
    },
    {
      "cell_type": "code",
      "execution_count": 12,
      "metadata": {
        "id": "_6xoZQFV9gLG",
        "outputId": "d1fdf653-b4dc-4701-ded9-ffe844c7d0a4",
        "colab": {
          "base_uri": "https://localhost:8080/"
        }
      },
      "outputs": [
        {
          "output_type": "execute_result",
          "data": {
            "text/plain": [
              "array([5, 0, 4, 1, 9, 2], dtype=uint8)"
            ]
          },
          "metadata": {},
          "execution_count": 12
        }
      ],
      "source": [
        "train_labels[:6] # first 5 labels"
      ]
    },
    {
      "cell_type": "markdown",
      "metadata": {
        "id": "MBwEurLo9gLG"
      },
      "source": [
        "Let's have a look at the test data:"
      ]
    },
    {
      "cell_type": "code",
      "execution_count": 13,
      "metadata": {
        "id": "oCDkklDh9gLG",
        "outputId": "475fa0b1-92b9-4853-da7b-cb3f7a8541a1",
        "colab": {
          "base_uri": "https://localhost:8080/"
        }
      },
      "outputs": [
        {
          "output_type": "execute_result",
          "data": {
            "text/plain": [
              "(10000, 28, 28)"
            ]
          },
          "metadata": {},
          "execution_count": 13
        }
      ],
      "source": [
        "test_images.shape"
      ]
    },
    {
      "cell_type": "code",
      "execution_count": 14,
      "metadata": {
        "id": "SUDcU5Pm9gLH",
        "outputId": "6fc31207-b465-43cb-b4f7-b746ef37c127",
        "colab": {
          "base_uri": "https://localhost:8080/"
        }
      },
      "outputs": [
        {
          "output_type": "execute_result",
          "data": {
            "text/plain": [
              "10000"
            ]
          },
          "metadata": {},
          "execution_count": 14
        }
      ],
      "source": [
        "len(test_labels)"
      ]
    },
    {
      "cell_type": "code",
      "execution_count": 15,
      "metadata": {
        "id": "qPONQs6r9gLH",
        "outputId": "1891a274-f865-4b8c-c46c-705b092cc862",
        "colab": {
          "base_uri": "https://localhost:8080/"
        }
      },
      "outputs": [
        {
          "output_type": "execute_result",
          "data": {
            "text/plain": [
              "array([7, 2, 1, ..., 4, 5, 6], dtype=uint8)"
            ]
          },
          "metadata": {},
          "execution_count": 15
        }
      ],
      "source": [
        "test_labels"
      ]
    },
    {
      "cell_type": "markdown",
      "metadata": {
        "id": "romZJrKB9gLH"
      },
      "source": [
        "\n",
        "Before training, we will preprocess our data by reshaping it into the shape that the network expects, and scaling it so that all values are in\n",
        "the `[0, 1]` interval. Previously, our training images for instance were stored in an array of shape `(60000, 28, 28)` of type `uint8` with\n",
        "values in the `[0, 255]` interval. We transform it into a `float32` array of shape `(60000, 28 * 28)` with values between 0 and 1."
      ]
    },
    {
      "cell_type": "code",
      "execution_count": 16,
      "metadata": {
        "id": "oSsUxCVJ9gLH"
      },
      "outputs": [],
      "source": [
        "train_images = train_images.astype('float32') / 255\n",
        "train_images = train_images.reshape((60000, 28 * 28))\n",
        "\n",
        "test_images = test_images.astype('float32') / 255\n",
        "test_images = test_images.reshape((10000, 28 * 28))"
      ]
    },
    {
      "cell_type": "markdown",
      "metadata": {
        "id": "_mLxIiNS9gLH"
      },
      "source": [
        "### Reshaping an image for the network\n",
        "\n",
        "The picture below shows the steps involved in converting a 10x10 pixel image into a 1 dimensional array that can be fed into a fully-connected neural network (assuming we do not scale the pixel values).\n",
        "\n",
        "<img src=\"Lab 1 - Pictures-2.jpg\" width=600 align=\"center\">\n",
        "\n",
        "And the picture below should help you visualize what things look like when we consider more than a single sample in our data:\n",
        "\n",
        "<img src=\"Lab 1 - Pictures-3.jpg\" width=600 align=\"center\">"
      ]
    },
    {
      "cell_type": "markdown",
      "metadata": {
        "id": "5GmCNX5N9gLH"
      },
      "source": [
        "We also need to categorically encode the labels:"
      ]
    },
    {
      "cell_type": "code",
      "execution_count": 17,
      "metadata": {
        "id": "vMH8rHMz9gLH"
      },
      "outputs": [],
      "source": [
        "from tensorflow.keras.utils import to_categorical\n",
        "\n",
        "train_labels = to_categorical(train_labels)\n",
        "test_labels = to_categorical(test_labels)"
      ]
    },
    {
      "cell_type": "code",
      "execution_count": 19,
      "metadata": {
        "id": "pUDeTSmk9gLH",
        "outputId": "406b0dfa-5618-41e4-b4e5-da84b0e118ec",
        "colab": {
          "base_uri": "https://localhost:8080/"
        }
      },
      "outputs": [
        {
          "output_type": "execute_result",
          "data": {
            "text/plain": [
              "array([[0., 0., 0., 0., 0., 1., 0., 0., 0., 0.],\n",
              "       [1., 0., 0., 0., 0., 0., 0., 0., 0., 0.],\n",
              "       [0., 0., 0., 0., 1., 0., 0., 0., 0., 0.],\n",
              "       [0., 1., 0., 0., 0., 0., 0., 0., 0., 0.],\n",
              "       [0., 0., 0., 0., 0., 0., 0., 0., 0., 1.]], dtype=float32)"
            ]
          },
          "metadata": {},
          "execution_count": 19
        }
      ],
      "source": [
        "train_labels[:5]"
      ]
    },
    {
      "cell_type": "markdown",
      "metadata": {
        "id": "uQRQ4slO9gLI"
      },
      "source": [
        "<img src=\"Lab 1 - Pictures-5.jpg\" width=600 align=\"center\">"
      ]
    },
    {
      "cell_type": "markdown",
      "metadata": {
        "id": "Uwnpsauo9gLI"
      },
      "source": [
        "Our workflow will be as follow: first we will present our neural network with the training data: `train_images` and `train_labels`. The\n",
        "network will then learn to associate images and labels. Finally, we will ask the network to produce predictions for `test_images`, and we\n",
        "will verify if these predictions match the labels from `test_labels`.\n",
        "\n",
        "## Build the network\n",
        "\n",
        "Let's build our network!"
      ]
    },
    {
      "cell_type": "code",
      "execution_count": 50,
      "metadata": {
        "id": "YimnjWKP9gLI"
      },
      "outputs": [],
      "source": [
        "from tensorflow.keras.models import Sequential\n",
        "from tensorflow.keras.layers import Dense, Dropout\n",
        "\n",
        "network = Sequential()\n",
        "network.add(Dense(512, activation='relu', input_shape=(28 * 28,)))\n",
        "network.add(Dense(10, activation='softmax'))"
      ]
    },
    {
      "cell_type": "markdown",
      "metadata": {
        "id": "240Kd4Mi9gLI"
      },
      "source": [
        "The core building block of neural networks is the \"layer\", a data-processing module which you can conceive as a \"filter\" for data. Some data comes in, and comes out in a more useful form. Precisely, layers extract _representations_ out of the data fed into them -- hopefully representations that are more meaningful for the problem at hand. Most of deep learning really consists of chaining together simple layers which will implement a form of progressive \"data distillation\". A deep learning model is like a sieve for data processing, made of a\n",
        "succession of increasingly refined data filters -- the \"layers\".\n",
        "\n",
        "Here our network consists of a sequence of two `Dense` layers, which are densely-connected (also called \"fully-connected\") neural layers. The second (and last) layer is a 10-way \"softmax\" layer, which means it will return an array of 10 probability scores (summing to 1). Each score will be the probability that the current digit image belongs to one of our 10 digit classes. See this [blog post](https://victorzhou.com/blog/softmax/) for more details on the softmax function. The following picture may help you see what is happening:\n",
        "\n",
        "<img src=\"Lab 1 - Pictures-4.jpg\" width=600 align=\"center\">"
      ]
    },
    {
      "cell_type": "markdown",
      "metadata": {
        "id": "4G78FKGl9gLI"
      },
      "source": [
        "## Network architecture and parameters\n",
        "It is often helpful to review the architecture of the network and see how many parameters will need to be learned through the training process. To do this, Keras provides the `.summary()` function:"
      ]
    },
    {
      "cell_type": "code",
      "execution_count": 21,
      "metadata": {
        "id": "nfouUE-J9gLI",
        "outputId": "fe669f1e-a367-4a40-9fe3-e18ba4d7f5bf",
        "colab": {
          "base_uri": "https://localhost:8080/"
        }
      },
      "outputs": [
        {
          "output_type": "stream",
          "name": "stdout",
          "text": [
            "Model: \"sequential\"\n",
            "_________________________________________________________________\n",
            " Layer (type)                Output Shape              Param #   \n",
            "=================================================================\n",
            " dense (Dense)               (None, 512)               401920    \n",
            "                                                                 \n",
            " dense_1 (Dense)             (None, 10)                5130      \n",
            "                                                                 \n",
            "=================================================================\n",
            "Total params: 407050 (1.55 MB)\n",
            "Trainable params: 407050 (1.55 MB)\n",
            "Non-trainable params: 0 (0.00 Byte)\n",
            "_________________________________________________________________\n"
          ]
        }
      ],
      "source": [
        "network.summary()"
      ]
    },
    {
      "cell_type": "markdown",
      "metadata": {
        "id": "7lh3w8AR9gLI"
      },
      "source": [
        "## Compile the network\n",
        "To make our network ready for training, we need to pick three more things, as part of \"compilation\" step:\n",
        "\n",
        "* A loss function: this is how the network will be able to measure how good a job it is doing on its training data, and thus how it will be able to steer itself in the right direction.\n",
        "* An optimizer: this is the mechanism through which the network will update its parameters (weights and biases) based on the data it sees and its loss function. This is like the *gradient descent* recipe for updating the network's parameters.\n",
        "* Metrics: what to monitor during training and testing. Here we will only care about accuracy (the fraction of the images that were correctly classified)."
      ]
    },
    {
      "cell_type": "code",
      "execution_count": 22,
      "metadata": {
        "id": "cj07MyKT9gLI"
      },
      "outputs": [],
      "source": [
        "network.compile(optimizer='rmsprop',\n",
        "                loss='categorical_crossentropy',\n",
        "                metrics=['accuracy'])"
      ]
    },
    {
      "cell_type": "markdown",
      "metadata": {
        "id": "mPOCSa319gLI"
      },
      "source": [
        "We are now ready to train our network, which in Keras is done via a call to the `fit` method of the network:\n",
        "we \"fit\" the model to its training data."
      ]
    },
    {
      "cell_type": "markdown",
      "metadata": {
        "id": "18vyNpl59gLI"
      },
      "source": [
        "## Train the network"
      ]
    },
    {
      "cell_type": "code",
      "execution_count": 23,
      "metadata": {
        "id": "DnEyaaZV9gLI",
        "outputId": "bb236d73-4ad7-44a2-fd95-e2454f802ed4",
        "colab": {
          "base_uri": "https://localhost:8080/"
        }
      },
      "outputs": [
        {
          "output_type": "stream",
          "name": "stdout",
          "text": [
            "Epoch 1/5\n",
            "469/469 [==============================] - 10s 21ms/step - loss: 0.2686 - accuracy: 0.9220\n",
            "Epoch 2/5\n",
            "469/469 [==============================] - 10s 22ms/step - loss: 0.1094 - accuracy: 0.9682\n",
            "Epoch 3/5\n",
            "469/469 [==============================] - 5s 11ms/step - loss: 0.0715 - accuracy: 0.9789\n",
            "Epoch 4/5\n",
            "469/469 [==============================] - 5s 11ms/step - loss: 0.0515 - accuracy: 0.9852\n",
            "Epoch 5/5\n",
            "469/469 [==============================] - 5s 11ms/step - loss: 0.0392 - accuracy: 0.9882\n"
          ]
        }
      ],
      "source": [
        "history = network.fit(train_images, train_labels, epochs=5, batch_size=128, verbose=1)"
      ]
    },
    {
      "cell_type": "markdown",
      "metadata": {
        "id": "yI4CVb0D9gLI"
      },
      "source": [
        "Two quantities are being displayed during training: the \"loss\" of the network over the training data, and the accuracy of the network over\n",
        "the training data.\n",
        "\n",
        "We quickly reach an accuracy of around 0.98 (i.e. 98%) on the training data."
      ]
    },
    {
      "cell_type": "markdown",
      "metadata": {
        "id": "DMkz4Ak29gLI"
      },
      "source": [
        "## Check test accuracy\n",
        "\n",
        "Now let's check that our model performs well on the test set too:"
      ]
    },
    {
      "cell_type": "code",
      "execution_count": 24,
      "metadata": {
        "id": "idThFmD69gLJ",
        "outputId": "77bc2583-b148-4a25-ed62-e2c32d7ab655",
        "colab": {
          "base_uri": "https://localhost:8080/"
        }
      },
      "outputs": [
        {
          "output_type": "stream",
          "name": "stdout",
          "text": [
            "313/313 [==============================] - 1s 3ms/step - loss: 0.0638 - accuracy: 0.9803\n"
          ]
        }
      ],
      "source": [
        "test_loss, test_acc = network.evaluate(test_images, test_labels)"
      ]
    },
    {
      "cell_type": "code",
      "execution_count": 25,
      "metadata": {
        "id": "Ln7bCBxv9gLJ",
        "outputId": "b7a6f4f7-35b1-4a78-b0b2-0da89a584fc6",
        "colab": {
          "base_uri": "https://localhost:8080/"
        }
      },
      "outputs": [
        {
          "output_type": "stream",
          "name": "stdout",
          "text": [
            "test_acc: 0.9803000092506409\n"
          ]
        }
      ],
      "source": [
        "print('test_acc:', test_acc)"
      ]
    },
    {
      "cell_type": "markdown",
      "metadata": {
        "id": "fSohQhQs9gLJ"
      },
      "source": [
        "\n",
        "Our test set accuracy turns out to be around 98%, which is lower than the training set accuracy.\n",
        "\n",
        "This concludes our very first example -- you just saw how we could build and train a neural network to classify handwritten digits, in less than 20 lines of Python code."
      ]
    },
    {
      "cell_type": "markdown",
      "metadata": {
        "id": "5uZZu6Yo9gLJ"
      },
      "source": [
        "**epoch**\n",
        "  - one epoch is reached when all training examples have been sent through the network\n",
        "  \n",
        "**batch size**\n",
        "  - the training data is not sent through the network one sample at time but in batches; this is another hyperparamter to be set. The weights and biases are updated after each batch is processed by the network. In this example the batch size was set to 128\n"
      ]
    },
    {
      "cell_type": "markdown",
      "metadata": {
        "id": "-essVG--9gLK"
      },
      "source": [
        "## Your turn\n",
        "\n",
        "Rerunning the network means executing the following steps:\n",
        "- Build the network\n",
        "- Network architecure and parameters\n",
        "- Compile the network\n",
        "- Train the network\n",
        "- Check test accuracy\n",
        "\n",
        "**Each exercise will thus have all the necessary code to build, compile, fit, and test.**\n",
        "\n",
        "## Starting Code\n",
        "\n",
        "Begin with the following code for Exercises 1 to 5, that is, the code below is what you are being asked to modify in the first five exercises:\n",
        "\n",
        "```\n",
        "network = Sequential()\n",
        "network.add(Dense(512, activation='relu', input_shape=(28 * 28,)))\n",
        "network.add(Dense(10, activation='softmax'))\n",
        "\n",
        "network.summary()\n",
        "\n",
        "network.compile(optimizer='rmsprop',\n",
        "                loss='categorical_crossentropy',\n",
        "                metrics=['accuracy'])\n",
        "                \n",
        "network.fit(train_images, train_labels, epochs=5, batch_size=128, verbose=1)\n",
        "\n",
        "test_loss, test_acc = network.evaluate(test_images, test_labels)\n",
        "print('test_acc:', test_acc)\n",
        "```\n",
        "\n",
        "Be sure to rename the `network` for each Exercise."
      ]
    },
    {
      "cell_type": "markdown",
      "metadata": {
        "id": "GbrPEYjf9gLK"
      },
      "source": [
        "## Your turn\n",
        "\n",
        "Rerunning the network means executing the following steps:\n",
        "- Build the network\n",
        "- Compile the network\n",
        "- Fit the data\n",
        "- Check test accuracy\n",
        "\n",
        "Before you begin, make a copy of the `network` in the *Build the network* section so you can remember the structure and parameters for the original network.\n",
        "\n",
        "### **Exercise 1-6 (15 Marks) (2.5 Marks each)**\n",
        "\n",
        "### Exercise 1\n",
        "\n",
        "- change the activation in the hidden layer to 'sigmoid'\n",
        "- rerun the network\n",
        "- what is the new value for the training accuracy?\n",
        "- what is the new value for the test accuracy?"
      ]
    },
    {
      "cell_type": "code",
      "execution_count": null,
      "metadata": {
        "id": "0DFqWTi69gLK",
        "outputId": "ed788f0f-5f31-488c-f9b8-6a6440d2e872"
      },
      "outputs": [
        {
          "name": "stdout",
          "output_type": "stream",
          "text": [
            "Model: \"sequential_1\"\n",
            "_________________________________________________________________\n",
            "Layer (type)                 Output Shape              Param #   \n",
            "=================================================================\n",
            "dense_2 (Dense)              (None, 512)               401920    \n",
            "_________________________________________________________________\n",
            "dense_3 (Dense)              (None, 10)                5130      \n",
            "=================================================================\n",
            "Total params: 407,050\n",
            "Trainable params: 407,050\n",
            "Non-trainable params: 0\n",
            "_________________________________________________________________\n",
            "Epoch 1/5\n",
            "469/469 [==============================] - 2s 3ms/step - loss: 0.4239 - accuracy: 0.8851\n",
            "Epoch 2/5\n",
            "469/469 [==============================] - 1s 3ms/step - loss: 0.2334 - accuracy: 0.9314\n",
            "Epoch 3/5\n",
            "469/469 [==============================] - 1s 3ms/step - loss: 0.1765 - accuracy: 0.9482\n",
            "Epoch 4/5\n",
            "469/469 [==============================] - 1s 3ms/step - loss: 0.1385 - accuracy: 0.9595\n",
            "Epoch 5/5\n",
            "469/469 [==============================] - 1s 3ms/step - loss: 0.1120 - accuracy: 0.9673\n",
            "313/313 [==============================] - 1s 2ms/step - loss: 0.1118 - accuracy: 0.9669\n",
            "test_acc: 0.9668999910354614\n"
          ]
        }
      ],
      "source": []
    },
    {
      "cell_type": "code",
      "source": [
        "\n",
        "network2 = Sequential()\n",
        "network2.add(Dense(512, activation='sigmoid', input_shape=(28 * 28,)))\n",
        "network2.add(Dense(10, activation='softmax'))\n",
        "network2.compile(optimizer='rmsprop',\n",
        "                loss='categorical_crossentropy',\n",
        "                metrics=['accuracy'])\n",
        "\n",
        "network2.fit(train_images, train_labels, epochs=5, batch_size=128, verbose=1)\n",
        "test_loss2, test_acc2 = network2.evaluate(test_images, test_labels)\n",
        "print('test_acc:', test_acc)"
      ],
      "metadata": {
        "colab": {
          "base_uri": "https://localhost:8080/"
        },
        "id": "YZVRixPjRsRX",
        "outputId": "da7a9221-8316-4c7e-fe89-e3820d204b6d"
      },
      "execution_count": 40,
      "outputs": [
        {
          "output_type": "stream",
          "name": "stdout",
          "text": [
            "Epoch 1/5\n",
            "469/469 [==============================] - 5s 10ms/step - loss: 0.4594 - accuracy: 0.8770\n",
            "Epoch 2/5\n",
            "469/469 [==============================] - 6s 14ms/step - loss: 0.2682 - accuracy: 0.9219\n",
            "Epoch 3/5\n",
            "469/469 [==============================] - 5s 10ms/step - loss: 0.2166 - accuracy: 0.9373\n",
            "Epoch 4/5\n",
            "469/469 [==============================] - 6s 12ms/step - loss: 0.1771 - accuracy: 0.9489\n",
            "Epoch 5/5\n",
            "469/469 [==============================] - 4s 10ms/step - loss: 0.1481 - accuracy: 0.9572\n",
            "313/313 [==============================] - 1s 3ms/step - loss: 0.1436 - accuracy: 0.9567\n",
            "test_acc: 0.9803000092506409\n"
          ]
        }
      ]
    },
    {
      "cell_type": "markdown",
      "metadata": {
        "id": "8A0mC-lw9gLK"
      },
      "source": [
        "### Exercise 2\n",
        "\n",
        "- change the activation in the hidden layer back to 'relu'\n",
        "- change the batch size to 32\n",
        "- rerun the network\n",
        "- what is the new value for the training accuracy?\n",
        "- what is the new value for the test accuracy?\n",
        "- was the speed effected?"
      ]
    },
    {
      "cell_type": "code",
      "execution_count": null,
      "metadata": {
        "id": "lp6wzl769gLK",
        "outputId": "7d95f0f8-587e-4d44-bc8d-ac245e593a7a"
      },
      "outputs": [
        {
          "name": "stdout",
          "output_type": "stream",
          "text": [
            "Model: \"sequential_2\"\n",
            "_________________________________________________________________\n",
            "Layer (type)                 Output Shape              Param #   \n",
            "=================================================================\n",
            "dense_4 (Dense)              (None, 512)               401920    \n",
            "_________________________________________________________________\n",
            "dense_5 (Dense)              (None, 10)                5130      \n",
            "=================================================================\n",
            "Total params: 407,050\n",
            "Trainable params: 407,050\n",
            "Non-trainable params: 0\n",
            "_________________________________________________________________\n",
            "Epoch 1/5\n",
            "1875/1875 [==============================] - 5s 3ms/step - loss: 0.2009 - accuracy: 0.9405\n",
            "Epoch 2/5\n",
            "1875/1875 [==============================] - 5s 3ms/step - loss: 0.0902 - accuracy: 0.9735\n",
            "Epoch 3/5\n",
            "1875/1875 [==============================] - 5s 3ms/step - loss: 0.0649 - accuracy: 0.9813\n",
            "Epoch 4/5\n",
            "1875/1875 [==============================] - 5s 3ms/step - loss: 0.0511 - accuracy: 0.9862\n",
            "Epoch 5/5\n",
            "1875/1875 [==============================] - 5s 3ms/step - loss: 0.0428 - accuracy: 0.9888\n",
            "313/313 [==============================] - 1s 1ms/step - loss: 0.0855 - accuracy: 0.9806\n",
            "test_acc: 0.9805999994277954\n"
          ]
        }
      ],
      "source": []
    },
    {
      "cell_type": "code",
      "source": [
        "network3 = Sequential()\n",
        "network3.add(Dense(512, activation='relu', input_shape=(28 * 28,)))\n",
        "network3.add(Dense(10, activation='softmax'))\n",
        "network3.summary()\n",
        "network3.compile(optimizer='rmsprop',\n",
        "                loss='categorical_crossentropy',\n",
        "                metrics=['accuracy'])\n",
        "\n",
        "network3.fit(train_images, train_labels, epochs=5, batch_size=32, verbose=1)\n",
        "test_loss3, test_acc3 = network3.evaluate(test_images, test_labels)\n",
        "print('New test accuracy:', test_acc3)"
      ],
      "metadata": {
        "colab": {
          "base_uri": "https://localhost:8080/"
        },
        "id": "0ipTP6gFVKfU",
        "outputId": "e9caa6aa-8a42-4691-b6fc-fdde4a018b2c"
      },
      "execution_count": 42,
      "outputs": [
        {
          "output_type": "stream",
          "name": "stdout",
          "text": [
            "Model: \"sequential_5\"\n",
            "_________________________________________________________________\n",
            " Layer (type)                Output Shape              Param #   \n",
            "=================================================================\n",
            " dense_10 (Dense)            (None, 512)               401920    \n",
            "                                                                 \n",
            " dense_11 (Dense)            (None, 10)                5130      \n",
            "                                                                 \n",
            "=================================================================\n",
            "Total params: 407050 (1.55 MB)\n",
            "Trainable params: 407050 (1.55 MB)\n",
            "Non-trainable params: 0 (0.00 Byte)\n",
            "_________________________________________________________________\n",
            "Epoch 1/5\n",
            "1875/1875 [==============================] - 13s 7ms/step - loss: 0.2023 - accuracy: 0.9405\n",
            "Epoch 2/5\n",
            "1875/1875 [==============================] - 12s 7ms/step - loss: 0.0875 - accuracy: 0.9740\n",
            "Epoch 3/5\n",
            "1875/1875 [==============================] - 12s 7ms/step - loss: 0.0607 - accuracy: 0.9817\n",
            "Epoch 4/5\n",
            "1875/1875 [==============================] - 14s 7ms/step - loss: 0.0455 - accuracy: 0.9866\n",
            "Epoch 5/5\n",
            "1875/1875 [==============================] - 12s 7ms/step - loss: 0.0351 - accuracy: 0.9894\n",
            "313/313 [==============================] - 2s 4ms/step - loss: 0.1016 - accuracy: 0.9741\n",
            "New test accuracy: 0.9740999937057495\n"
          ]
        }
      ]
    },
    {
      "cell_type": "markdown",
      "metadata": {
        "id": "5IIBsGT89gLK"
      },
      "source": [
        "### Exercise 3\n",
        "\n",
        "- change the number of epochs to 10\n",
        "- rerun the network\n",
        "- what is the new value for the training accuracy?\n",
        "- what is the new value for the test accuracy?"
      ]
    },
    {
      "cell_type": "code",
      "execution_count": null,
      "metadata": {
        "id": "JuRkQWaS9gLK",
        "outputId": "d238b585-9d2c-4970-b2ba-7c314f22c13b"
      },
      "outputs": [
        {
          "name": "stdout",
          "output_type": "stream",
          "text": [
            "Model: \"sequential_3\"\n",
            "_________________________________________________________________\n",
            "Layer (type)                 Output Shape              Param #   \n",
            "=================================================================\n",
            "dense_6 (Dense)              (None, 512)               401920    \n",
            "_________________________________________________________________\n",
            "dense_7 (Dense)              (None, 10)                5130      \n",
            "=================================================================\n",
            "Total params: 407,050\n",
            "Trainable params: 407,050\n",
            "Non-trainable params: 0\n",
            "_________________________________________________________________\n",
            "Epoch 1/10\n",
            "469/469 [==============================] - 2s 3ms/step - loss: 0.2581 - accuracy: 0.9247\n",
            "Epoch 2/10\n",
            "469/469 [==============================] - 1s 3ms/step - loss: 0.1034 - accuracy: 0.9695\n",
            "Epoch 3/10\n",
            "469/469 [==============================] - 1s 3ms/step - loss: 0.0687 - accuracy: 0.9790\n",
            "Epoch 4/10\n",
            "469/469 [==============================] - 1s 3ms/step - loss: 0.0497 - accuracy: 0.9855\n",
            "Epoch 5/10\n",
            "469/469 [==============================] - 1s 3ms/step - loss: 0.0370 - accuracy: 0.9889\n",
            "Epoch 6/10\n",
            "469/469 [==============================] - 1s 3ms/step - loss: 0.0277 - accuracy: 0.9916\n",
            "Epoch 7/10\n",
            "469/469 [==============================] - 1s 3ms/step - loss: 0.0229 - accuracy: 0.9932\n",
            "Epoch 8/10\n",
            "469/469 [==============================] - 1s 3ms/step - loss: 0.0170 - accuracy: 0.9950\n",
            "Epoch 9/10\n",
            "469/469 [==============================] - 1s 3ms/step - loss: 0.0130 - accuracy: 0.9963\n",
            "Epoch 10/10\n",
            "469/469 [==============================] - 1s 3ms/step - loss: 0.0098 - accuracy: 0.9973\n",
            "313/313 [==============================] - 1s 1ms/step - loss: 0.0754 - accuracy: 0.9807\n",
            "test_acc: 0.9807000160217285\n"
          ]
        }
      ],
      "source": []
    },
    {
      "cell_type": "code",
      "source": [
        "network4 = Sequential()\n",
        "network4.add(Dense(512, activation='relu', input_shape=(28 * 28,)))\n",
        "network4.add(Dense(10, activation='softmax'))\n",
        "network4.summary()\n",
        "network4.compile(optimizer='rmsprop',\n",
        "                loss='categorical_crossentropy',\n",
        "                metrics=['accuracy'])\n",
        "\n",
        "network4.fit(train_images, train_labels, epochs=10, batch_size=32, verbose=1)\n",
        "test_loss4, test_acc4 = network4.evaluate(test_images, test_labels)\n",
        "print('New test accuracy:', test_acc4)"
      ],
      "metadata": {
        "colab": {
          "base_uri": "https://localhost:8080/"
        },
        "id": "tSF3b4PAWv2M",
        "outputId": "305e3acc-87e2-4bc8-bb4a-e58c6c68a9c1"
      },
      "execution_count": 46,
      "outputs": [
        {
          "output_type": "stream",
          "name": "stdout",
          "text": [
            "Model: \"sequential_7\"\n",
            "_________________________________________________________________\n",
            " Layer (type)                Output Shape              Param #   \n",
            "=================================================================\n",
            " dense_14 (Dense)            (None, 512)               401920    \n",
            "                                                                 \n",
            " dense_15 (Dense)            (None, 10)                5130      \n",
            "                                                                 \n",
            "=================================================================\n",
            "Total params: 407050 (1.55 MB)\n",
            "Trainable params: 407050 (1.55 MB)\n",
            "Non-trainable params: 0 (0.00 Byte)\n",
            "_________________________________________________________________\n",
            "Epoch 1/10\n",
            "1875/1875 [==============================] - 13s 7ms/step - loss: 0.2019 - accuracy: 0.9399\n",
            "Epoch 2/10\n",
            "1875/1875 [==============================] - 12s 7ms/step - loss: 0.0854 - accuracy: 0.9748\n",
            "Epoch 3/10\n",
            "1875/1875 [==============================] - 13s 7ms/step - loss: 0.0588 - accuracy: 0.9821\n",
            "Epoch 4/10\n",
            "1875/1875 [==============================] - 13s 7ms/step - loss: 0.0444 - accuracy: 0.9868\n",
            "Epoch 5/10\n",
            "1875/1875 [==============================] - 16s 8ms/step - loss: 0.0335 - accuracy: 0.9899\n",
            "Epoch 6/10\n",
            "1875/1875 [==============================] - 14s 8ms/step - loss: 0.0260 - accuracy: 0.9920\n",
            "Epoch 7/10\n",
            "1875/1875 [==============================] - 13s 7ms/step - loss: 0.0215 - accuracy: 0.9937\n",
            "Epoch 8/10\n",
            "1875/1875 [==============================] - 15s 8ms/step - loss: 0.0150 - accuracy: 0.9955\n",
            "Epoch 9/10\n",
            "1875/1875 [==============================] - 13s 7ms/step - loss: 0.0117 - accuracy: 0.9965\n",
            "Epoch 10/10\n",
            "1875/1875 [==============================] - 13s 7ms/step - loss: 0.0090 - accuracy: 0.9975\n",
            "313/313 [==============================] - 1s 3ms/step - loss: 0.0798 - accuracy: 0.9824\n",
            "New test accuracy: 0.9824000000953674\n"
          ]
        }
      ]
    },
    {
      "cell_type": "markdown",
      "metadata": {
        "id": "3jaJqS4A9gLK"
      },
      "source": [
        "### Exercise 4\n",
        "\n",
        "- change the number of neurons in the hidden layer to 128\n",
        "- rerun the network\n",
        "- what is the new value for the training accuracy?\n",
        "- what is the new value for the test accuracy?"
      ]
    },
    {
      "cell_type": "code",
      "execution_count": null,
      "metadata": {
        "id": "8n7VZLXO9gLK",
        "outputId": "74c81385-8fb5-47a5-b921-510710a0a508"
      },
      "outputs": [
        {
          "name": "stdout",
          "output_type": "stream",
          "text": [
            "Model: \"sequential_4\"\n",
            "_________________________________________________________________\n",
            "Layer (type)                 Output Shape              Param #   \n",
            "=================================================================\n",
            "dense_8 (Dense)              (None, 128)               100480    \n",
            "_________________________________________________________________\n",
            "dense_9 (Dense)              (None, 10)                1290      \n",
            "=================================================================\n",
            "Total params: 101,770\n",
            "Trainable params: 101,770\n",
            "Non-trainable params: 0\n",
            "_________________________________________________________________\n",
            "Epoch 1/5\n",
            "469/469 [==============================] - 2s 3ms/step - loss: 0.3292 - accuracy: 0.9094\n",
            "Epoch 2/5\n",
            "469/469 [==============================] - 1s 3ms/step - loss: 0.1550 - accuracy: 0.9550\n",
            "Epoch 3/5\n",
            "469/469 [==============================] - 1s 3ms/step - loss: 0.1110 - accuracy: 0.9677\n",
            "Epoch 4/5\n",
            "469/469 [==============================] - 1s 3ms/step - loss: 0.0858 - accuracy: 0.9749\n",
            "Epoch 5/5\n",
            "469/469 [==============================] - 1s 3ms/step - loss: 0.0704 - accuracy: 0.9796\n",
            "313/313 [==============================] - 1s 1ms/step - loss: 0.0865 - accuracy: 0.9743\n",
            "test_acc: 0.9743000268936157\n"
          ]
        }
      ],
      "source": []
    },
    {
      "cell_type": "code",
      "source": [
        "network5 = Sequential()\n",
        "network5.add(Dense(128, activation='relu', input_shape=(28 * 28,)))\n",
        "network5.add(Dense(10, activation='softmax'))\n",
        "network5.summary()\n",
        "network5.compile(optimizer='rmsprop',\n",
        "                loss='categorical_crossentropy',\n",
        "                metrics=['accuracy'])\n",
        "\n",
        "network5.fit(train_images, train_labels, epochs=10, batch_size=32, verbose=1)\n",
        "test_loss5, test_acc5 = network5.evaluate(test_images, test_labels)\n",
        "print('New test accuracy:', test_acc5)"
      ],
      "metadata": {
        "colab": {
          "base_uri": "https://localhost:8080/"
        },
        "id": "hmgl_u3LXUzZ",
        "outputId": "d52db471-aebb-4047-d47c-f1ff08bbd3b9"
      },
      "execution_count": 47,
      "outputs": [
        {
          "output_type": "stream",
          "name": "stdout",
          "text": [
            "Model: \"sequential_8\"\n",
            "_________________________________________________________________\n",
            " Layer (type)                Output Shape              Param #   \n",
            "=================================================================\n",
            " dense_16 (Dense)            (None, 128)               100480    \n",
            "                                                                 \n",
            " dense_17 (Dense)            (None, 10)                1290      \n",
            "                                                                 \n",
            "=================================================================\n",
            "Total params: 101770 (397.54 KB)\n",
            "Trainable params: 101770 (397.54 KB)\n",
            "Non-trainable params: 0 (0.00 Byte)\n",
            "_________________________________________________________________\n",
            "Epoch 1/10\n",
            "1875/1875 [==============================] - 7s 3ms/step - loss: 0.2509 - accuracy: 0.9288\n",
            "Epoch 2/10\n",
            "1875/1875 [==============================] - 7s 4ms/step - loss: 0.1158 - accuracy: 0.9663\n",
            "Epoch 3/10\n",
            "1875/1875 [==============================] - 6s 3ms/step - loss: 0.0840 - accuracy: 0.9750\n",
            "Epoch 4/10\n",
            "1875/1875 [==============================] - 7s 4ms/step - loss: 0.0667 - accuracy: 0.9806\n",
            "Epoch 5/10\n",
            "1875/1875 [==============================] - 6s 3ms/step - loss: 0.0558 - accuracy: 0.9837\n",
            "Epoch 6/10\n",
            "1875/1875 [==============================] - 7s 4ms/step - loss: 0.0463 - accuracy: 0.9864\n",
            "Epoch 7/10\n",
            "1875/1875 [==============================] - 6s 3ms/step - loss: 0.0405 - accuracy: 0.9879\n",
            "Epoch 8/10\n",
            "1875/1875 [==============================] - 7s 4ms/step - loss: 0.0346 - accuracy: 0.9896\n",
            "Epoch 9/10\n",
            "1875/1875 [==============================] - 6s 3ms/step - loss: 0.0306 - accuracy: 0.9914\n",
            "Epoch 10/10\n",
            "1875/1875 [==============================] - 10s 5ms/step - loss: 0.0262 - accuracy: 0.9924\n",
            "313/313 [==============================] - 1s 2ms/step - loss: 0.0825 - accuracy: 0.9789\n",
            "New test accuracy: 0.9789000153541565\n"
          ]
        }
      ]
    },
    {
      "cell_type": "markdown",
      "metadata": {
        "id": "apa9fRnM9gLL"
      },
      "source": [
        "### Exercise 5\n",
        "\n",
        "- to the original network, add a second hidden layer of 128 neurons (note that `input_shape` does note need to be set for a second *Dense* layer)\n",
        "- rerun the network\n",
        "- what is the new value for the training accuracy?\n",
        "- what is the new value for the test accuracy?"
      ]
    },
    {
      "cell_type": "code",
      "execution_count": null,
      "metadata": {
        "id": "sEKK4e6I9gLL",
        "outputId": "cc3d4026-bf61-4357-987d-7b8368df08f5"
      },
      "outputs": [
        {
          "name": "stdout",
          "output_type": "stream",
          "text": [
            "Model: \"sequential_5\"\n",
            "_________________________________________________________________\n",
            "Layer (type)                 Output Shape              Param #   \n",
            "=================================================================\n",
            "dense_10 (Dense)             (None, 512)               401920    \n",
            "_________________________________________________________________\n",
            "dense_11 (Dense)             (None, 128)               65664     \n",
            "_________________________________________________________________\n",
            "dense_12 (Dense)             (None, 10)                1290      \n",
            "=================================================================\n",
            "Total params: 468,874\n",
            "Trainable params: 468,874\n",
            "Non-trainable params: 0\n",
            "_________________________________________________________________\n",
            "Epoch 1/5\n",
            "469/469 [==============================] - 2s 4ms/step - loss: 0.2380 - accuracy: 0.9277\n",
            "Epoch 2/5\n",
            "469/469 [==============================] - 2s 4ms/step - loss: 0.0882 - accuracy: 0.9725\n",
            "Epoch 3/5\n",
            "469/469 [==============================] - 2s 4ms/step - loss: 0.0571 - accuracy: 0.9824\n",
            "Epoch 4/5\n",
            "469/469 [==============================] - 2s 4ms/step - loss: 0.0397 - accuracy: 0.9878\n",
            "Epoch 5/5\n",
            "469/469 [==============================] - 2s 4ms/step - loss: 0.0291 - accuracy: 0.9905\n",
            "313/313 [==============================] - 1s 2ms/step - loss: 0.0683 - accuracy: 0.9816\n",
            "test_acc: 0.9815999865531921\n"
          ]
        }
      ],
      "source": []
    },
    {
      "cell_type": "code",
      "source": [
        "network6 = Sequential()\n",
        "network6.add(Dense(512, activation='sigmoid', input_shape=(28 * 28,)))\n",
        "network6.add(Dense(128, activation='sigmoid'))  # Adding a second hidden layer\n",
        "network6.add(Dense(10, activation='softmax'))\n",
        "network6.compile(optimizer='rmsprop',\n",
        "                loss='categorical_crossentropy',\n",
        "                metrics=['accuracy'])\n",
        "\n",
        "network6.fit(train_images, train_labels, epochs=5, batch_size=128, verbose=1)\n",
        "test_loss6, test_acc6 = network6.evaluate(test_images, test_labels)\n",
        "print('test_acc:', test_acc6)"
      ],
      "metadata": {
        "colab": {
          "base_uri": "https://localhost:8080/"
        },
        "id": "4RZVNUKzaFP3",
        "outputId": "45ad518d-0a27-4b5d-b185-0e2a805f143a"
      },
      "execution_count": 48,
      "outputs": [
        {
          "output_type": "stream",
          "name": "stdout",
          "text": [
            "Epoch 1/5\n",
            "469/469 [==============================] - 6s 11ms/step - loss: 0.5927 - accuracy: 0.8407\n",
            "Epoch 2/5\n",
            "469/469 [==============================] - 6s 13ms/step - loss: 0.2614 - accuracy: 0.9218\n",
            "Epoch 3/5\n",
            "469/469 [==============================] - 5s 11ms/step - loss: 0.2029 - accuracy: 0.9394\n",
            "Epoch 4/5\n",
            "469/469 [==============================] - 6s 13ms/step - loss: 0.1637 - accuracy: 0.9512\n",
            "Epoch 5/5\n",
            "469/469 [==============================] - 5s 11ms/step - loss: 0.1335 - accuracy: 0.9601\n",
            "313/313 [==============================] - 1s 3ms/step - loss: 0.1327 - accuracy: 0.9590\n",
            "test_acc: 0.9589999914169312\n"
          ]
        }
      ]
    },
    {
      "cell_type": "markdown",
      "metadata": {
        "id": "azOgAzee9gLL"
      },
      "source": [
        "### Exercise 6\n",
        "\n",
        "There is a good chance that the network from the previous exercise is overfitting. One way to manage overfitting in a network is to add a **dropout** layer. A dropout layer will randomly \"turn off\" (or *drop*) a fraction of the neurons in a layer. This makes it harder for the network to 'memorize' the training data.\n",
        "\n",
        "- add a dropout layer after the first hidden layer (see the [keras documentation](https://keras.io/layers/core/))\n",
        "- rerun the network\n",
        "- what is the new value for the training accuracy?\n",
        "- what is the new value for the test accuracy?"
      ]
    },
    {
      "cell_type": "code",
      "execution_count": null,
      "metadata": {
        "id": "zMGhpkHA9gLL",
        "outputId": "16fd8e8b-db92-40ee-dc76-4a858c546123"
      },
      "outputs": [
        {
          "name": "stdout",
          "output_type": "stream",
          "text": [
            "Model: \"sequential_6\"\n",
            "_________________________________________________________________\n",
            "Layer (type)                 Output Shape              Param #   \n",
            "=================================================================\n",
            "dense_13 (Dense)             (None, 512)               401920    \n",
            "_________________________________________________________________\n",
            "dropout_1 (Dropout)          (None, 512)               0         \n",
            "_________________________________________________________________\n",
            "dense_14 (Dense)             (None, 128)               65664     \n",
            "_________________________________________________________________\n",
            "dense_15 (Dense)             (None, 10)                1290      \n",
            "=================================================================\n",
            "Total params: 468,874\n",
            "Trainable params: 468,874\n",
            "Non-trainable params: 0\n",
            "_________________________________________________________________\n",
            "Epoch 1/5\n",
            "469/469 [==============================] - 2s 4ms/step - loss: 0.3076 - accuracy: 0.9063\n",
            "Epoch 2/5\n",
            "469/469 [==============================] - 2s 4ms/step - loss: 0.1457 - accuracy: 0.9560\n",
            "Epoch 3/5\n",
            "469/469 [==============================] - 2s 4ms/step - loss: 0.1140 - accuracy: 0.9661\n",
            "Epoch 4/5\n",
            "469/469 [==============================] - 2s 4ms/step - loss: 0.0967 - accuracy: 0.9715\n",
            "Epoch 5/5\n",
            "469/469 [==============================] - 2s 4ms/step - loss: 0.0888 - accuracy: 0.9728\n",
            "313/313 [==============================] - 1s 2ms/step - loss: 0.0695 - accuracy: 0.9797\n",
            "test_acc: 0.9797000288963318\n"
          ]
        }
      ],
      "source": []
    },
    {
      "cell_type": "code",
      "source": [
        "network7 = Sequential()\n",
        "network7.add(Dense(512, activation='sigmoid', input_shape=(28 * 28,)))\n",
        "network7.add(Dropout(0.5))  # Adding a dropout layer with a dropout rate of 0.5\n",
        "network7.add(Dense(128, activation='sigmoid'))  # Adding a second hidden layer\n",
        "network7.add(Dense(10, activation='softmax'))\n",
        "\n",
        "network7.compile(optimizer='rmsprop',\n",
        "                loss='categorical_crossentropy',\n",
        "                metrics=['accuracy'])\n",
        "\n",
        "network7.fit(train_images, train_labels, epochs=5, batch_size=128, verbose=1)\n",
        "test_loss7, test_acc7 = network7.evaluate(test_images, test_labels)\n",
        "print('New test accuracy:', test_acc7)"
      ],
      "metadata": {
        "colab": {
          "base_uri": "https://localhost:8080/"
        },
        "id": "6IMHZXk2a3Y4",
        "outputId": "ee03ee41-f8e3-426f-d46b-ff7fc7f05155"
      },
      "execution_count": 51,
      "outputs": [
        {
          "output_type": "stream",
          "name": "stdout",
          "text": [
            "Epoch 1/5\n",
            "469/469 [==============================] - 6s 12ms/step - loss: 0.6800 - accuracy: 0.8089\n",
            "Epoch 2/5\n",
            "469/469 [==============================] - 7s 15ms/step - loss: 0.3069 - accuracy: 0.9077\n",
            "Epoch 3/5\n",
            "469/469 [==============================] - 6s 12ms/step - loss: 0.2433 - accuracy: 0.9258\n",
            "Epoch 4/5\n",
            "469/469 [==============================] - 7s 14ms/step - loss: 0.2027 - accuracy: 0.9387\n",
            "Epoch 5/5\n",
            "469/469 [==============================] - 6s 13ms/step - loss: 0.1749 - accuracy: 0.9471\n",
            "313/313 [==============================] - 1s 3ms/step - loss: 0.1358 - accuracy: 0.9586\n",
            "New test accuracy: 0.9585999846458435\n"
          ]
        }
      ]
    },
    {
      "cell_type": "markdown",
      "source": [
        "### **Exercise 7 - CHALLENGE! (20 Marks)**\n",
        "\n",
        "**State of the art accuracy for the MNIST dataset is 99.84%.**\n",
        "\n",
        "How close can you get to this accuracy?\n",
        "\n",
        "Create a new fully-connected network. You can find information in the keras documentation. Things to try:\n",
        "* additional layers\n",
        "* number of neurons per layer\n",
        "* batch size\n",
        "* learning rate\n",
        "* activation functions\n",
        "* weight initializations\n",
        "* different optimizers\n",
        "* dropout layers\n",
        "\n",
        "\n",
        "This network should have at least 3 characteristics that are different from every other network submitted in this lab"
      ],
      "metadata": {
        "id": "b-HOSfjS-cya"
      }
    },
    {
      "cell_type": "code",
      "source": [],
      "metadata": {
        "id": "VRoL14Ib-4Hl"
      },
      "execution_count": null,
      "outputs": []
    }
  ],
  "metadata": {
    "kernelspec": {
      "display_name": "Python 3 (ipykernel)",
      "language": "python",
      "name": "python3"
    },
    "language_info": {
      "codemirror_mode": {
        "name": "ipython",
        "version": 3
      },
      "file_extension": ".py",
      "mimetype": "text/x-python",
      "name": "python",
      "nbconvert_exporter": "python",
      "pygments_lexer": "ipython3",
      "version": "3.7.13"
    },
    "colab": {
      "provenance": [],
      "include_colab_link": true
    }
  },
  "nbformat": 4,
  "nbformat_minor": 0
}